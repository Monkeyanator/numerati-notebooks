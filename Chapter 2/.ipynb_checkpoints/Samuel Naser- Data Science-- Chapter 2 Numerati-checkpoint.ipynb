{
 "cells": [
  {
   "cell_type": "markdown",
   "metadata": {},
   "source": [
    "# Chapter 2- Recommender Systems"
   ]
  },
  {
   "cell_type": "markdown",
   "metadata": {},
   "source": [
    "# Samuel Naser"
   ]
  },
  {
   "cell_type": "markdown",
   "metadata": {},
   "source": [
    "## Basic techniques in recommendation"
   ]
  },
  {
   "cell_type": "markdown",
   "metadata": {},
   "source": [
    "<ul> \n",
    "    <li> Manhattan Distance (aka Taxi Cab Distance) </li> \n",
    "    <li> Euclidean Distance </li> \n",
    "</ul> "
   ]
  },
  {
   "cell_type": "markdown",
   "metadata": {},
   "source": [
    "### Example Distances"
   ]
  },
  {
   "cell_type": "code",
   "execution_count": 17,
   "metadata": {
    "collapsed": false
   },
   "outputs": [],
   "source": [
    "users = {\"Angelica\": {\"Blues Traveler\": 3.5, \"Broken Bells\": 2.0,\n",
    " \"Norah Jones\": 4.5, \"Phoenix\": 5.0,\n",
    " \"Slightly Stoopid\": 1.5,\n",
    " \"The Strokes\": 2.5, \"Vampire Weekend\": 2.0},\n",
    "\n",
    " \"Bill\": {\"Blues Traveler\": 2.0, \"Broken Bells\": 3.5,\n",
    " \"Deadmau5\": 4.0, \"Phoenix\": 2.0,\n",
    " \"Slightly Stoopid\": 3.5, \"Vampire Weekend\": 3.0},\n",
    "         \n",
    " \"Chan\": {\"Blues Traveler\": 5.0, \"Broken Bells\": 1.0,\n",
    " \"Deadmau5\": 1.0, \"Norah Jones\": 3.0,\n",
    " \"Phoenix\": 5, \"Slightly Stoopid\": 1.0},\n",
    "         \n",
    " \"Dan\": {\"Blues Traveler\": 3.0, \"Broken Bells\": 4.0,\n",
    " \"Deadmau5\": 4.5, \"Phoenix\": 3.0,\n",
    " \"Slightly Stoopid\": 4.5, \"The Strokes\": 4.0,\n",
    " \"Vampire Weekend\": 2.0},\n",
    "         \n",
    " \"Hailey\": {\"Broken Bells\": 4.0, \"Deadmau5\": 1.0,\n",
    " \"Norah Jones\": 4.0, \"The Strokes\": 4.0,\n",
    " \"Vampire Weekend\": 1.0},\n",
    "         \n",
    " \"Jordyn\": {\"Broken Bells\": 4.5, \"Deadmau5\": 4.0, \"Norah Jones\": 5.0,\n",
    " \"Phoenix\": 5.0, \"Slightly Stoopid\": 4.5,\n",
    " \"The Strokes\": 4.0, \"Vampire Weekend\": 4.0},\n",
    "         \n",
    " \"Sam\": {\"Blues Traveler\": 5.0, \"Broken Bells\": 2.0,\n",
    " \"Norah Jones\": 3.0, \"Phoenix\": 5.0,\n",
    " \"Slightly Stoopid\": 4.0, \"The Strokes\": 5.0},\n",
    "         \n",
    " \"Veronica\": {\"Blues Traveler\": 3.0, \"Norah Jones\": 5.0,\n",
    " \"Phoenix\": 4.0, \"Slightly Stoopid\": 2.5,\n",
    " \"The Strokes\": 3.0}}\n"
   ]
  },
  {
   "cell_type": "code",
   "execution_count": 18,
   "metadata": {
    "collapsed": false
   },
   "outputs": [
    {
     "name": "stdout",
     "output_type": "stream",
     "text": [
      "Manhattan Distance between Angelica and Chan: 4.5\n",
      "Euclidean Distance between Angelica and Chan: 2.4\n"
     ]
    }
   ],
   "source": [
    "#implementation for manhattan distance \n",
    "def manhattanDistance(user1, user2): \n",
    "    manhattanDistance = 0 \n",
    "    for band in user1: \n",
    "        if band in user2:   \n",
    "            difference = user1[band] - user2[band]\n",
    "            manhattanDistance += abs(difference)\n",
    "    return manhattanDistance\n",
    "\n",
    "#implementation for euclidean distance \n",
    "def euclideanDistance(user1, user2): \n",
    "    euclideanDistance = 0 \n",
    "    for band in user1: \n",
    "        if band in user2:   \n",
    "            difference = user1[band] - user2[band]\n",
    "            euclideanDistance += difference ** 2 \n",
    "    return round(euclideanDistance ** (0.5), 2)\n",
    "\n",
    "\n",
    "print(\"Manhattan Distance between Angelica and Chan:\", manhattanDistance(users[\"Angelica\"], users[\"Chan\"])) \n",
    "print(\"Euclidean Distance between Angelica and Chan:\", euclideanDistance(users[\"Angelica\"], users[\"Chan\"])) "
   ]
  },
  {
   "cell_type": "markdown",
   "metadata": {},
   "source": [
    "<b> NOW COMPUTE CLOSEST MATCH FOR USER! </b>"
   ]
  },
  {
   "cell_type": "code",
   "execution_count": 35,
   "metadata": {
    "collapsed": false
   },
   "outputs": [
    {
     "name": "stdout",
     "output_type": "stream",
     "text": [
      "All distances for user Veronica: [(2.0, 'Hailey'), (3.5, 'Angelica'), (4.0, 'Bill'), (4.0, 'Dan'), (4.0, 'Jordyn'), (6.5, 'Chan'), (8.5, 'Sam')]\n"
     ]
    }
   ],
   "source": [
    "def nearestMatches(username, allUserData):\n",
    "    allDistances = [] \n",
    "    for currentUser in allUserData: \n",
    "        if currentUser != username: \n",
    "            currentDistance = manhattanDistance(allUserData[username], allUserData[currentUser])\n",
    "            allDistances.append((currentDistance, currentUser))\n",
    "    allDistances.sort() \n",
    "    return allDistances\n",
    "\n",
    "print(\"All distances for user Veronica:\", nearestMatches(\"Veronica\", users))"
   ]
  },
  {
   "cell_type": "code",
   "execution_count": 53,
   "metadata": {
    "collapsed": false
   },
   "outputs": [
    {
     "name": "stdout",
     "output_type": "stream",
     "text": [
      "[('Broken Bells', 4.0), ('Deadmau5', 1.0), ('Vampire Weekend', 1.0)]\n"
     ]
    }
   ],
   "source": [
    "def makeReccomendations(username, allUserData): \n",
    "    recs = []\n",
    "    nearestMatch = nearestMatches(username,allUserData)[0][1]\n",
    "    nearestMatchRatings = allUserData[nearestMatch] \n",
    "    userRatings = allUserData[username] \n",
    "    for band in nearestMatchRatings: \n",
    "        if not band in userRatings:\n",
    "            recs.append((band, nearestMatchRatings[band])) \n",
    "    return sorted(recs, key=lambda tup: tup[1], reverse=True) #don't fully understand this line \n",
    "    \n",
    "print(makeReccomendations(\"Veronica\", users))"
   ]
  },
  {
   "cell_type": "markdown",
   "metadata": {},
   "source": [
    "<b> ALGORITHM, AS IT IS, WILL NOT RECOMMEND USERS BANDS IF THEIR CLOSEST MATCH HAS IS SUPERSET OF THEIR PREFERENCES </b> \n",
    "<p> Assignment: Implement Minkowski Distance </p> "
   ]
  },
  {
   "cell_type": "code",
   "execution_count": 55,
   "metadata": {
    "collapsed": false
   },
   "outputs": [
    {
     "name": "stdout",
     "output_type": "stream",
     "text": [
      "Minkowski Distance between Angelica and Chan: 1.04\n"
     ]
    }
   ],
   "source": [
    "def minkowskiDistance(user1, user2, r): \n",
    "    minkowskiDistance = 0 \n",
    "    for band in user1: \n",
    "        if band in user2: \n",
    "            difference = user1[band] - user2[band]\n",
    "            minkowskiDistance += difference ** r \n",
    "    return round(minkowskiDistance ** (1.0/r), 2)\n",
    "\n",
    "print(\"Minkowski Distance between Angelica and Chan:\", minkowskiDistance(users[\"Angelica\"], users[\"Chan\"], 3)) "
   ]
  },
  {
   "cell_type": "markdown",
   "metadata": {},
   "source": [
    "## How to normalize user preferences?"
   ]
  },
  {
   "cell_type": "markdown",
   "metadata": {},
   "source": [
    "<p> Some users WAY more willing to give high ratings, other users are reluctant to drop a 5. </p> \n",
    "<p> In data mining, we call this <b> GRADE INFLATION </b></p> "
   ]
  },
  {
   "cell_type": "markdown",
   "metadata": {},
   "source": [
    "### Pearson correlation coefficient to address this problem "
   ]
  },
  {
   "cell_type": "markdown",
   "metadata": {},
   "source": [
    "Takes into account difference in user rating patterns. "
   ]
  },
  {
   "cell_type": "code",
   "execution_count": 7,
   "metadata": {
    "collapsed": true
   },
   "outputs": [],
   "source": [
    "users = {\"Angelica\": {\"Blues Traveler\": 3.5, \"Broken Bells\": 2.0,\n",
    " \"Norah Jones\": 4.5, \"Phoenix\": 5.0,\n",
    " \"Slightly Stoopid\": 1.5,\n",
    " \"The Strokes\": 2.5, \"Vampire Weekend\": 2.0},\n",
    "\n",
    " \"Bill\": {\"Blues Traveler\": 2.0, \"Broken Bells\": 3.5,\n",
    " \"Deadmau5\": 4.0, \"Phoenix\": 2.0,\n",
    " \"Slightly Stoopid\": 3.5, \"Vampire Weekend\": 3.0},\n",
    "         \n",
    " \"Chan\": {\"Blues Traveler\": 5.0, \"Broken Bells\": 1.0,\n",
    " \"Deadmau5\": 1.0, \"Norah Jones\": 3.0,\n",
    " \"Phoenix\": 5, \"Slightly Stoopid\": 1.0},\n",
    "         \n",
    " \"Dan\": {\"Blues Traveler\": 3.0, \"Broken Bells\": 4.0,\n",
    " \"Deadmau5\": 4.5, \"Phoenix\": 3.0,\n",
    " \"Slightly Stoopid\": 4.5, \"The Strokes\": 4.0,\n",
    " \"Vampire Weekend\": 2.0},\n",
    "         \n",
    " \"Hailey\": {\"Broken Bells\": 4.0, \"Deadmau5\": 1.0,\n",
    " \"Norah Jones\": 4.0, \"The Strokes\": 4.0,\n",
    " \"Vampire Weekend\": 1.0},\n",
    "         \n",
    " \"Jordyn\": {\"Broken Bells\": 4.5, \"Deadmau5\": 4.0, \"Norah Jones\": 5.0,\n",
    " \"Phoenix\": 5.0, \"Slightly Stoopid\": 4.5,\n",
    " \"The Strokes\": 4.0, \"Vampire Weekend\": 4.0},\n",
    "         \n",
    " \"Sam\": {\"Blues Traveler\": 5.0, \"Broken Bells\": 2.0,\n",
    " \"Norah Jones\": 3.0, \"Phoenix\": 5.0,\n",
    " \"Slightly Stoopid\": 4.0, \"The Strokes\": 5.0},\n",
    "         \n",
    " \"Veronica\": {\"Blues Traveler\": 3.0, \"Norah Jones\": 5.0,\n",
    " \"Phoenix\": 4.0, \"Slightly Stoopid\": 2.5,\n",
    " \"The Strokes\": 3.0}}\n"
   ]
  },
  {
   "cell_type": "code",
   "execution_count": 16,
   "metadata": {
    "collapsed": false
   },
   "outputs": [
    {
     "name": "stdout",
     "output_type": "stream",
     "text": [
      "Pearson correlation between Angelican and Chan: 0.82\n"
     ]
    }
   ],
   "source": [
    "from math import sqrt\n",
    "def pearsonCorrelation(r1, r2):\n",
    "    sxy = 0\n",
    "    sx = 0\n",
    "    sy = 0\n",
    "    sx2 = 0\n",
    "    sy2 = 0\n",
    "    n = 0\n",
    "    for key in r1:\n",
    "        if key in r2:\n",
    "            n += 1\n",
    "            x = r1[key]\n",
    "            y = r2[key]\n",
    "            sxy += x * y\n",
    "            sx += x\n",
    "            sy += y\n",
    "            sx2 += x ** 2 \n",
    "            sy2 += y ** 2 \n",
    "    #if the denominator is zero, might as well return 0 \n",
    "    lower = sqrt(sx2 - sx ** 2 / n) * sqrt(sy2 - sy ** 2 / n)\n",
    "    if lower == 0:\n",
    "        return 0\n",
    "    else:\n",
    "        return (sxy - (sx * sy) / n) / lower\n",
    "\n",
    "print(\"Pearson correlation between Angelican and Chan:\", round(pearsonCorrelation(users[\"Angelica\"], users[\"Chan\"]),2))"
   ]
  },
  {
   "cell_type": "markdown",
   "metadata": {},
   "source": [
    "### Cosine Similarity"
   ]
  },
  {
   "cell_type": "markdown",
   "metadata": {},
   "source": [
    "Used more frequently in text mining, but also used in collaborative filtering \n",
    "\n",
    "In some cases, like text mining, shared <i>zeroes</i> do not indicate similarity (e.g. just because two things do <b>NOT</b> include word doesn't mean they are similar)"
   ]
  },
  {
   "cell_type": "code",
   "execution_count": 20,
   "metadata": {
    "collapsed": false
   },
   "outputs": [
    {
     "name": "stdout",
     "output_type": "stream",
     "text": [
      "0.8784261605942703\n"
     ]
    }
   ],
   "source": [
    "#my cosine impl\n",
    "def cosine(r1, r2):\n",
    "    #calcaulate magnitudes of vectors \n",
    "    m1 = sum([r1[key] ** 2 for key in r1]) ** 0.5 \n",
    "    m2 = sum([r2[key] ** 2 for key in r2]) ** 0.5\n",
    "    #iterate over one vector checking for values for same key in other\n",
    "    #NOTE: non-shared keys do not contribute to dot product \n",
    "    dotProduct = 0 \n",
    "    for key in r1: \n",
    "        if key in r2:\n",
    "            dotProduct += r1[key] * r2[key]\n",
    "    return dotProduct / (m1 * m2)\n",
    "\n",
    "print(cosine(users[\"Angelica\"], users[\"Chan\"]))  "
   ]
  },
  {
   "cell_type": "markdown",
   "metadata": {},
   "source": [
    "## HUGE POINT: WHEN TO USE WHICH METHOD??"
   ]
  },
  {
   "cell_type": "markdown",
   "metadata": {},
   "source": [
    "<ul> \n",
    "    <li> With sparse data, where most values are zero, use Cosine similarity </li> \n",
    "    <li> With dense data, where most data has values, and magnitude matters, use Manhattan or Euclidean distance </li> \n",
    "    <li> With data subject to users rating on different scales, use a correlation value (Pearson coefficient) </li> \n",
    "</ul> "
   ]
  },
  {
   "cell_type": "markdown",
   "metadata": {},
   "source": [
    "Cannot just add zeroes to make sparse datasets work with Manhattan/Euclidean! The zeroes tend to dominate any calculations (you really just shouldn't take into account songs they haven't both rated). "
   ]
  },
  {
   "cell_type": "markdown",
   "metadata": {},
   "source": [
    "<ul> \n",
    "    <li> One possible workaround is to take a pseudo-average by finding the distance and then dividing by number of terms in common. This would, as you could see, result in lower distance (closer match) with <i> more </i> ratings in common </li> \n",
    "</ul> "
   ]
  },
  {
   "cell_type": "markdown",
   "metadata": {},
   "source": [
    "## K-Nearest Neighbors"
   ]
  },
  {
   "cell_type": "markdown",
   "metadata": {},
   "source": [
    "Takes out some of the quirks of basing recommendations of one (most) similar person "
   ]
  },
  {
   "cell_type": "markdown",
   "metadata": {},
   "source": [
    "Use top k neighbors, and each neighbor influences the predictions by a factor of their similarity match to the user in question"
   ]
  },
  {
   "cell_type": "code",
   "execution_count": 99,
   "metadata": {
    "collapsed": false
   },
   "outputs": [
    {
     "name": "stdout",
     "output_type": "stream",
     "text": [
      "RECOMMENDATIONS FOR BRYAN:  [('Scarface', 4.3182870505659885), ('Blade Runner', 3.4269113897024672)]\n"
     ]
    }
   ],
   "source": [
    "import csv \n",
    "from enum import Enum \n",
    "\n",
    "class Metric(Enum): \n",
    "    PEARSON = 0 \n",
    "    COSINE = 1 \n",
    "    EUCLIDEAN = 2 \n",
    "    MANHATTAN = 3 \n",
    "\n",
    "class Recommender: \n",
    "    def __init__(self, _data, _metric):\n",
    "        self.data = _data \n",
    "        \n",
    "        #assign appropriate correlation method \n",
    "        if _metric == Metric.PEARSON: \n",
    "            self.similarityMethod = self.__pearsonCorrelation \n",
    "        if _metric == Metric.COSINE: \n",
    "            self.similarityMethod = self.__cosine \n",
    "        if _metric == Metric.EUCLIDEAN: \n",
    "            self.similarityMethod = self.__euclidean \n",
    "        if _metric == Metric.MANHATTAN: \n",
    "            self.similarityMethod = self.__manhattan \n",
    "\n",
    "    def recommend(self, user, amount):\n",
    "        \n",
    "        recommendations = {}\n",
    "        #retrieve 3 nearest neighbors\n",
    "        nearestUsers = self.kNearestNeighbors(user,3) \n",
    "        userRatings = self.data[user]\n",
    "        \n",
    "        aggregateDistance = 0.0 \n",
    "        for user in nearestUsers: \n",
    "            aggregateDistance += user[1] \n",
    "        \n",
    "        for user in nearestUsers: \n",
    "            currentUsername = user[0]\n",
    "            currentWeight = user[1] / aggregateDistance \n",
    "            currentUserRatings = self.data[currentUsername] \n",
    "            \n",
    "            for band in currentUserRatings: \n",
    "                if not band in userRatings: \n",
    "                    if not band in recommendations: \n",
    "                        recommendations[band] = currentUserRatings[band] * currentWeight \n",
    "                    else: \n",
    "                        recommendations[band] = recommendations[band] + currentUserRatings[band] * currentWeight \n",
    "        \n",
    "        recommendations = list(recommendations.items()) \n",
    "        recommendations.sort(key=lambda x: x[1], reverse = True)\n",
    "        \n",
    "        return recommendations[:amount] \n",
    "        \n",
    "    def similarity(self, u1, u2): \n",
    "        return self.similarityMethod(self.data[u1], self.data[u2])\n",
    "    \n",
    "    #method accepts username \n",
    "    def kNearestNeighbors(self, user, k):\n",
    "        similarities = [] \n",
    "        for currentUsername in self.data: \n",
    "            if not currentUsername == user: \n",
    "                similarities.append((currentUsername, self.similarity(user, currentUsername)))\n",
    "        similarities = sorted(similarities, key = lambda x: x[1])\n",
    "        return similarities[:k] \n",
    "        \n",
    "    #definitions of similarity measures \n",
    "    #each takes two user rating dictionaries, and returns similarity\n",
    "    #lower = more similar \n",
    "        \n",
    "    def __cosine(self, r1, r2):\n",
    "        #calcaulate magnitudes of vectors \n",
    "        m1 = sum([r1[key] ** 2 for key in r1]) ** 0.5 \n",
    "        m2 = sum([r2[key] ** 2 for key in r2]) ** 0.5\n",
    "        #iterate over one vector checking for values for same key in other\n",
    "        #NOTE: non-shared keys do not contribute to dot product \n",
    "        dotProduct = 0 \n",
    "        for key in r1: \n",
    "            if key in r2:\n",
    "                dotProduct += r1[key] * r2[key]\n",
    "        return dotProduct / (m1 * m2)\n",
    "    \n",
    "    def __pearsonCorrelation(self, r1, r2):\n",
    "        sxy = 0\n",
    "        sx = 0\n",
    "        sy = 0\n",
    "        sx2 = 0\n",
    "        sy2 = 0\n",
    "        n = 0\n",
    "        for key in r1:\n",
    "            if key in r2:\n",
    "                n += 1\n",
    "                x = r1[key]\n",
    "                y = r2[key]\n",
    "                sxy += x * y\n",
    "                sx += x\n",
    "                sy += y\n",
    "                sx2 += x ** 2 \n",
    "                sy2 += y ** 2 \n",
    "        #if the denominator is zero, might as well return 0 \n",
    "        lower = sqrt(sx2 - sx ** 2 / n) * sqrt(sy2 - sy ** 2 / n)\n",
    "        if lower == 0:\n",
    "            return 0\n",
    "        else:\n",
    "            return abs((sxy - (sx * sy) / n) / lower)\n",
    "\n",
    "    #implementation for manhattan distance \n",
    "    def __manhattanDistance(self, user1, user2): \n",
    "        manhattanDistance = 0 \n",
    "        for band in user1: \n",
    "            if band in user2:   \n",
    "                difference = user1[band] - user2[band]\n",
    "                manhattanDistance += abs(difference)\n",
    "        return manhattanDistance\n",
    "\n",
    "    #implementation for euclidean distance \n",
    "    def __euclideanDistance(self, user1, user2): \n",
    "        euclideanDistance = 0 \n",
    "        for band in user1: \n",
    "            if band in user2:   \n",
    "                difference = user1[band] - user2[band]\n",
    "                euclideanDistance += difference ** 2 \n",
    "        return round(euclideanDistance ** (0.5), 2)\n",
    "    \n",
    "#main section \n",
    "movie_file_rows = [] \n",
    "with open(\"movie_ratings.csv\", 'r+') as movies: \n",
    "    reader = csv.reader(movies)\n",
    "    for rows in reader: \n",
    "        movie_file_rows.append(rows) \n",
    "\n",
    "#let's parse this data \n",
    "userData = {} \n",
    "\n",
    "movie_count = len(movie_file_rows) - 1 \n",
    "user_count = len(movie_file_rows[0]) - 1 \n",
    "\n",
    "#get list of usernames\n",
    "usernames = []\n",
    "for i in range(user_count): \n",
    "    usernames.append(movie_file_rows[0][i+1])\n",
    "\n",
    "#get list of movie names \n",
    "movie_names = []\n",
    "for i in range(movie_count): \n",
    "    movie_names.append(movie_file_rows[i+1][0]) \n",
    "\n",
    "#set each entry to zero, at first \n",
    "for username in usernames: \n",
    "    userData[username] = {}\n",
    "\n",
    "#fill matrix with data \n",
    "dataMatrix = [] \n",
    "for i in range(movie_count):\n",
    "    currentMovieRatings = []\n",
    "    for j in range(user_count):\n",
    "        currentMovieRatings.append(movie_file_rows[i+1][j+1])\n",
    "    dataMatrix.append(currentMovieRatings)\n",
    "\n",
    "for movieIndex in range(movie_count): \n",
    "    currentMovie = movie_names[movieIndex] \n",
    "    for userIndex in range(user_count): \n",
    "        currentValue = dataMatrix[movieIndex][userIndex]\n",
    "        if not currentValue == '': \n",
    "            userData[usernames[userIndex]][movie_names[movieIndex]] = int(currentValue)\n",
    "\n",
    "rcmd = Recommender(userData, Metric.PEARSON)\n",
    "recommendation = rcmd.recommend(\"Bryan\", 2)\n",
    "\n",
    "print(\"RECOMMENDATIONS FOR BRYAN: \", recommendation)"
   ]
  },
  {
   "cell_type": "markdown",
   "metadata": {},
   "source": [
    "<b>The class above uses k-Nearest-Neighbors and Pearson Correlation to determine best recommendations.</b> Loads data from movie ratings file. "
   ]
  }
 ],
 "metadata": {
  "kernelspec": {
   "display_name": "Python 3",
   "language": "python",
   "name": "python3"
  },
  "language_info": {
   "codemirror_mode": {
    "name": "ipython",
    "version": 3
   },
   "file_extension": ".py",
   "mimetype": "text/x-python",
   "name": "python",
   "nbconvert_exporter": "python",
   "pygments_lexer": "ipython3",
   "version": "3.6.0"
  }
 },
 "nbformat": 4,
 "nbformat_minor": 2
}
