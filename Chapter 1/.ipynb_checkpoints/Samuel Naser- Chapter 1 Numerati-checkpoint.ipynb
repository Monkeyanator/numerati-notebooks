{
 "cells": [
  {
   "cell_type": "markdown",
   "metadata": {},
   "source": [
    "# Intro to data mining"
   ]
  },
  {
   "cell_type": "markdown",
   "metadata": {},
   "source": [
    "There are an incredible amount of <b>choices</b> in our modern world! Amazon has millions of books available, Netflix, Hulu, and AmazonPrime have thousands of TV shows and movies between them. There are millions of potential products we can purchase. "
   ]
  },
  {
   "cell_type": "markdown",
   "metadata": {},
   "source": [
    "## Finding relevant stuff "
   ]
  },
  {
   "cell_type": "markdown",
   "metadata": {},
   "source": [
    "<i>What movie should I watch? What service should I use? What should I eat for lunch?</i> \n",
    "\n",
    "The problem is sorting out the noise and finding which items will <i>matter</i> to a user. It's become <b>exponentially</b> more difficult to find relevant content in our world of possibilities. "
   ]
  },
  {
   "cell_type": "markdown",
   "metadata": {},
   "source": [
    "## How to find stuff? "
   ]
  },
  {
   "cell_type": "markdown",
   "metadata": {},
   "source": [
    "In a small town, long ago, our <i>friends</i> used to help us find stuff we would like. \n",
    "\n",
    "<i>Experts</i> came into our decision process, as popular products were evaulated and reviewed. Expert recommendations and reviews really meant, and still do mean, something. \n",
    "\n",
    "Also, we use <i>the thing itself</i> to aide us in our quest to find useful stuff. We remember what we like, and we use this as a basis for our future decisions. \n",
    "\n",
    "This stuff is all still used, although we needed some <b>computational help</b> to take them into the 21st century. "
   ]
  },
  {
   "cell_type": "markdown",
   "metadata": {},
   "source": [
    "## More than just stuff "
   ]
  },
  {
   "cell_type": "markdown",
   "metadata": {},
   "source": [
    "If we can predict what people like, and what their values are, we can appeal direclty to them. \n",
    "\n",
    "The government <b>uses private companies to keep data on us</b>. Companies have data on most of us, including where we live, what we look like, and the things we buy. "
   ]
  },
  {
   "cell_type": "markdown",
   "metadata": {},
   "source": [
    "## Data mining extends what we normally do "
   ]
  },
  {
   "cell_type": "markdown",
   "metadata": {},
   "source": [
    "Data mining is focused on <i>finding patterns in data</i>. \n",
    "\n",
    "People can do this, on the smaller scale, but with tremendous amounts of data and options, computation becomes necessary. "
   ]
  },
  {
   "cell_type": "markdown",
   "metadata": {},
   "source": [
    "## Tera-mining isn ot something from Starcraft II "
   ]
  },
  {
   "cell_type": "markdown",
   "metadata": {},
   "source": [
    "First of all, what a fantastic reference. \n",
    "\n",
    "Datasets have <b>grown tremendously</b> in the past decade. It is not uncommon to be doing datamining on <b>petabytes</b> of data. \n",
    "\n",
    "Tera-mining is a word to denote data mining on huge datasets. "
   ]
  }
 ],
 "metadata": {
  "kernelspec": {
   "display_name": "Python 2",
   "language": "python",
   "name": "python2"
  },
  "language_info": {
   "codemirror_mode": {
    "name": "ipython",
    "version": 2
   },
   "file_extension": ".py",
   "mimetype": "text/x-python",
   "name": "python",
   "nbconvert_exporter": "python",
   "pygments_lexer": "ipython2",
   "version": "2.7.13"
  }
 },
 "nbformat": 4,
 "nbformat_minor": 2
}
