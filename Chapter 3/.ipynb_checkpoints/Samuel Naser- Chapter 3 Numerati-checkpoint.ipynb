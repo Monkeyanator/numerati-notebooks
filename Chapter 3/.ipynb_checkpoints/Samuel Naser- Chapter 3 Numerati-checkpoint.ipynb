{
 "cells": [
  {
   "cell_type": "markdown",
   "metadata": {
    "deletable": true,
    "editable": true
   },
   "source": [
    "# Chapter 3: Implicit ratings and item-based filtering "
   ]
  },
  {
   "cell_type": "markdown",
   "metadata": {
    "deletable": true,
    "editable": true
   },
   "source": [
    "## Explicit Ratings"
   ]
  },
  {
   "cell_type": "markdown",
   "metadata": {
    "deletable": true,
    "editable": true
   },
   "source": [
    "<ul> \n",
    "    <li> Pandora/ YouTube thumbs up/down </li> \n",
    "    <li> Amazon 1-5 star rating system </li> \n",
    "</ul> "
   ]
  },
  {
   "cell_type": "markdown",
   "metadata": {
    "deletable": true,
    "editable": true
   },
   "source": [
    "## Implicit Ratings"
   ]
  },
  {
   "cell_type": "markdown",
   "metadata": {
    "collapsed": true,
    "deletable": true,
    "editable": true
   },
   "source": [
    "<ul> \n",
    "    <li> User clicks (news articles/ Amazon products) </li> \n",
    "    <li> Music listened to (iTunes/ Spotify), including amount of listens </li>\n",
    "</ul> "
   ]
  },
  {
   "cell_type": "markdown",
   "metadata": {
    "deletable": true,
    "editable": true
   },
   "source": [
    "### Problems with Explicit Ratings"
   ]
  },
  {
   "cell_type": "markdown",
   "metadata": {
    "deletable": true,
    "editable": true
   },
   "source": [
    "<ul> \n",
    "    <li> People are lazy, don't always rate items! </li> \n",
    "    <li> People lie/ give only partial information </li> \n",
    "    <li> People do not UPDATE RATINGS! </li> \n",
    "</ul> "
   ]
  },
  {
   "cell_type": "markdown",
   "metadata": {
    "deletable": true,
    "editable": true
   },
   "source": [
    "## What metrics can we use for implicit ratings?"
   ]
  },
  {
   "cell_type": "markdown",
   "metadata": {
    "deletable": true,
    "editable": true
   },
   "source": [
    "<ul>\n",
    "    <li><b>Web pages:</b> clicking link to page, time spent looking at page, repeated visits, referring page to others, what person watches on Hulu</li> \n",
    "    <li><b>Music players:</b> what the person plays, skipping songs, number of listens</li>\n",
    "</ul> "
   ]
  },
  {
   "cell_type": "markdown",
   "metadata": {
    "deletable": true,
    "editable": true
   },
   "source": [
    "## Issues with too many users "
   ]
  },
  {
   "cell_type": "markdown",
   "metadata": {
    "deletable": true,
    "editable": true
   },
   "source": [
    "<b>CALCULATIONS GET COMPLICATED QUICKLY!</b>\n",
    "<ul>\n",
    "    <li>To calculate millions of neighbors is burdensome </li>\n",
    "    <li>Recalculate each time a new user is added! </li> \n",
    "</ul> "
   ]
  },
  {
   "cell_type": "markdown",
   "metadata": {
    "deletable": true,
    "editable": true
   },
   "source": [
    "### Problems with user-based filtering"
   ]
  },
  {
   "cell_type": "markdown",
   "metadata": {
    "deletable": true,
    "editable": true
   },
   "source": [
    "<ul>\n",
    "    <li><b>Scalability:</b> computation increases as number of users increases </li> \n",
    "    <li><b>Sparsity:</b> many users that rate <i>small fraction</i> of total products </li> \n",
    "</ul>"
   ]
  },
  {
   "cell_type": "markdown",
   "metadata": {
    "deletable": true,
    "editable": true
   },
   "source": [
    "### Possible solution? ITEM-BASED FILTERING! "
   ]
  },
  {
   "cell_type": "markdown",
   "metadata": {
    "deletable": true,
    "editable": true
   },
   "source": [
    "<ul> \n",
    "    <li>Instead of calculating recommendations for each <b>user</b>, we find similar <b>items</b> </li>\n",
    "    <li>Find similar items, combine that with user's rating for items, and use that to recommend! </li>\n",
    "    <li><b>DON'T NEED TO STORE ALL USER RATINGS</b> FOR ITEM-BASED FILTERING</li> \n",
    "</ul> "
   ]
  },
  {
   "cell_type": "markdown",
   "metadata": {
    "deletable": true,
    "editable": true
   },
   "source": [
    "### Adjusted cosine similarity"
   ]
  },
  {
   "cell_type": "markdown",
   "metadata": {
    "collapsed": false,
    "deletable": true,
    "editable": true
   },
   "source": [
    "$$ \\frac{\\sum(R_{u,i} - \\bar{R})(R_{u,j} - \\bar{R})}{\\sqrt{\\sum(R_{u,i} - \\bar{R}})^2(\\sqrt{\\sum(R_{u,j}-\\bar{R})^2}} $$"
   ]
  },
  {
   "cell_type": "markdown",
   "metadata": {
    "collapsed": true,
    "deletable": true,
    "editable": true
   },
   "source": [
    "<ul>\n",
    "    <li>Perform normal cosine similarity, except on normalized (value - avg) form of the values</li> \n",
    "</ul> \n",
    "\n",
    "<b>THIS GIVES YOU HOW SIMILAR TWO <i>ITEMS</i> ARE!</b>\n",
    "How can we apply this to predict user ratings? \n",
    "\n",
    "$$p(u,i) = \\frac{\\sum_{\\in{similarTo(i)}} (S_{i,N}\\times R_{u,N})}{\\sum_{\\in{similarTo(i)}}(|S_{i,N}|)}$$"
   ]
  },
  {
   "cell_type": "markdown",
   "metadata": {
    "deletable": true,
    "editable": true
   },
   "source": [
    "<b>^THAT'S</b> how! Pretty much weights the similarity between two bands into our accounting for the user's rating of that band...\n",
    "\n",
    "LIGHTBULB MOMENT!!!!!! PEARSON CORRELATION COEFFICIENT IS JUST COSINE SIMILARITY WITH NORMALIZED VALUES! HA! -also the cosine similarity we saw before was used between users rather than items "
   ]
  },
  {
   "cell_type": "markdown",
   "metadata": {
    "deletable": true,
    "editable": true
   },
   "source": [
    "<b>BUT WAIT, THERE'S MORE!</b> We need to normalize the user ratings $$R_{u,n}$$ should be normalized from -1 to 1"
   ]
  },
  {
   "cell_type": "markdown",
   "metadata": {
    "deletable": true,
    "editable": true
   },
   "source": [
    "<b>THIS REQUIRES THE NORMALIZATION/DENORMALIZATION FORMULAE</b> THAT I WILL MAKE SERIOUS EFFORTS TO UNDERSTAND (covered in next chapter)"
   ]
  },
  {
   "cell_type": "markdown",
   "metadata": {
    "deletable": true,
    "editable": true
   },
   "source": [
    "To use this method we need\n",
    "<ul>\n",
    "    <li>Similarity matrix, calculated in Pearson correlation </li>\n",
    "    <li>Normalized user ratings (from -1 to 1 for Pearson)</li> \n",
    "</ul> "
   ]
  },
  {
   "cell_type": "markdown",
   "metadata": {
    "deletable": true,
    "editable": true
   },
   "source": [
    "### Slope One"
   ]
  },
  {
   "cell_type": "markdown",
   "metadata": {
    "deletable": true,
    "editable": true
   },
   "source": [
    "Use database of deviations (which are computed <b>ahead of time</b>) to compute the actual predictions. "
   ]
  },
  {
   "cell_type": "markdown",
   "metadata": {
    "deletable": true,
    "editable": true
   },
   "source": [
    " <ol>\n",
    "     <li><b>Done ahead of time:</b> compute deviations between every pair of items</li>\n",
    "     <li>Use deviations to make predictions</li>"
   ]
  },
  {
   "cell_type": "markdown",
   "metadata": {
    "deletable": true,
    "editable": true
   },
   "source": [
    "<b>The beauty of this method??</b> We don't have to recalculate entire matrix each time new user added to system. \n",
    "\n",
    "We use that trick where we say ((9 * 2) + 4) / 10 = 2.2\n",
    "^because we used to have 9 ratings w/ deviation of two, and we need to add the new ratings and divide by the new number \n",
    "\n",
    "<b>Deviation:</b> average distance between bands across all users who have rated both bands "
   ]
  },
  {
   "cell_type": "code",
   "execution_count": 4,
   "metadata": {
    "collapsed": true,
    "deletable": true,
    "editable": true
   },
   "outputs": [],
   "source": [
    "#user data \n",
    "users2 = {\"Amy\": {\"Taylor Swift\": 4, \"PSY\": 3, \"Whitney Houston\": 4},\n",
    " \"Ben\": {\"Taylor Swift\": 5, \"PSY\": 2},\n",
    " \"Clara\": {\"PSY\": 3.5, \"Whitney Houston\": 4},\n",
    " \"Daisy\": {\"Taylor Swift\": 5, \"Whitney Houston\": 3}}"
   ]
  },
  {
   "cell_type": "code",
   "execution_count": 138,
   "metadata": {
    "collapsed": false,
    "deletable": true,
    "editable": true
   },
   "outputs": [
    {
     "name": "stdout",
     "output_type": "stream",
     "text": [
      "{'PSY': {'Taylor Swift': -2.0, 'Whitney Houston': -0.75}, 'Taylor Swift': {'PSY': 2.0, 'Whitney Houston': 1.0}, 'Whitney Houston': {'PSY': 0.75, 'Taylor Swift': -1.0}}\n",
      "{'PSY': {'Taylor Swift': 2.0, 'Whitney Houston': 2.0}, 'Taylor Swift': {'PSY': 2.0, 'Whitney Houston': 2.0}, 'Whitney Houston': {'PSY': 2.0, 'Taylor Swift': 2.0}}\n"
     ]
    }
   ],
   "source": [
    "def computeDeviations(userData): \n",
    "    frequencies = {} \n",
    "    deviations = {} \n",
    "    #devations are average distance between items\n",
    "    for ratings in userData.values(): \n",
    "        for (item1, rating1) in ratings.items():\n",
    "            frequencies.setdefault(item1, {})\n",
    "            deviations.setdefault(item1, {})\n",
    "            for (item2, rating2) in ratings.items(): \n",
    "                if item1 != item2: \n",
    "                    #use default value trick to initialize to zero \n",
    "                    frequencies[item1].setdefault(item2, 0.0)\n",
    "                    deviations[item1].setdefault(item2, 0.0)\n",
    "                    frequencies[item1][item2] += 1 \n",
    "                    deviations[item1][item2] += rating1 - rating2\n",
    "    for (item, ratings) in deviations.items(): \n",
    "        for item2 in ratings:\n",
    "            ratings[item2] /= frequencies[item][item2]\n",
    "    \n",
    "    return (deviations, frequencies) \n",
    "            \n",
    "(devs, freqs) = computeDeviations(users2)\n",
    "print devs\n",
    "print freqs"
   ]
  },
  {
   "cell_type": "code",
   "execution_count": 105,
   "metadata": {
    "collapsed": false,
    "deletable": true,
    "editable": true
   },
   "outputs": [
    {
     "name": "stdout",
     "output_type": "stream",
     "text": [
      "[('Whitney Houston', 3.375)]\n"
     ]
    }
   ],
   "source": [
    "def slopeOneRecommender(userRatings):\n",
    "    #since abandoned class notion, will have local freqs\n",
    "    #and the global freqs \n",
    "    recommendations = {}\n",
    "    (deviations,frequencies) = computeDeviations(users2)\n",
    "    localFrequencies = {}\n",
    "    #iterate over all items user has NOT rated \n",
    "    for (item, userRating) in userRatings.items():\n",
    "        for (dItem, diffRatings) in deviations.items():\n",
    "            if dItem not in userRatings and item in deviations[dItem]:\n",
    "                #factor these into the weight \n",
    "                freq = frequencies[dItem][item]\n",
    "                recommendations.setdefault(dItem, 0.0)\n",
    "                localFrequencies.setdefault(dItem, 0)\n",
    "                recommendations[dItem] += (diffRatings[item] + userRating) * freq\n",
    "                localFrequencies[dItem] += freq\n",
    "                \n",
    "    recommendations = [(p, q / localFrequencies[p]) for (p, q) in recommendations.items()]\n",
    "    #magic sort algorithm we have been using the whole time \n",
    "    recommendations.sort(key=lambda artistTuple: artistTuple[1], reverse = True)\n",
    "    return recommendations \n",
    "\n",
    "testUser = users2[\"Ben\"]\n",
    "rec = slopeOneRecommender(testUser)\n",
    "print rec "
   ]
  },
  {
   "cell_type": "markdown",
   "metadata": {
    "deletable": true,
    "editable": true
   },
   "source": [
    "## Movie Lens"
   ]
  },
  {
   "cell_type": "code",
   "execution_count": 19,
   "metadata": {
    "collapsed": false,
    "deletable": true,
    "editable": true
   },
   "outputs": [],
   "source": [
    "#NOTE:: RAN INTO PROBLEMS LOADING DATASET, AND CALCULATING VALUES WITHOUT IMPLEMENTING CLASS\n",
    "#WHICH IS ALREADY DONE BELOW- WILL CONTINUE CHAPTER WITH EXAMPLE CODE\n",
    "\n",
    "\n",
    "#!/usr/bin/python\n",
    "# -*- coding: utf-8 -*-\n",
    "import codecs\n",
    "from math import sqrt\n",
    "\n",
    "users2 = {\n",
    "    'Amy': {'Taylor Swift': 4, 'PSY': 3, 'Whitney Houston': 4},\n",
    "    'Ben': {'Taylor Swift': 5, 'PSY': 2},\n",
    "    'Clara': {'PSY': 3.5, 'Whitney Houston': 4},\n",
    "    'Daisy': {'Taylor Swift': 5, 'Whitney Houston': 3},\n",
    "    }\n",
    "\n",
    "users = {\n",
    "    'Angelica': {\n",
    "        'Blues Traveler': 3.5,\n",
    "        'Broken Bells': 2.0,\n",
    "        'Norah Jones': 4.5,\n",
    "        'Phoenix': 5.0,\n",
    "        'Slightly Stoopid': 1.5,\n",
    "        'The Strokes': 2.5,\n",
    "        'Vampire Weekend': 2.0,\n",
    "        },\n",
    "    'Bill': {\n",
    "        'Blues Traveler': 2.0,\n",
    "        'Broken Bells': 3.5,\n",
    "        'Deadmau5': 4.0,\n",
    "        'Phoenix': 2.0,\n",
    "        'Slightly Stoopid': 3.5,\n",
    "        'Vampire Weekend': 3.0,\n",
    "        },\n",
    "    'Chan': {\n",
    "        'Blues Traveler': 5.0,\n",
    "        'Broken Bells': 1.0,\n",
    "        'Deadmau5': 1.0,\n",
    "        'Norah Jones': 3.0,\n",
    "        'Phoenix': 5,\n",
    "        'Slightly Stoopid': 1.0,\n",
    "        },\n",
    "    'Dan': {\n",
    "        'Blues Traveler': 3.0,\n",
    "        'Broken Bells': 4.0,\n",
    "        'Deadmau5': 4.5,\n",
    "        'Phoenix': 3.0,\n",
    "        'Slightly Stoopid': 4.5,\n",
    "        'The Strokes': 4.0,\n",
    "        'Vampire Weekend': 2.0,\n",
    "        },\n",
    "    'Hailey': {\n",
    "        'Broken Bells': 4.0,\n",
    "        'Deadmau5': 1.0,\n",
    "        'Norah Jones': 4.0,\n",
    "        'The Strokes': 4.0,\n",
    "        'Vampire Weekend': 1.0,\n",
    "        },\n",
    "    'Jordyn': {\n",
    "        'Broken Bells': 4.5,\n",
    "        'Deadmau5': 4.0,\n",
    "        'Norah Jones': 5.0,\n",
    "        'Phoenix': 5.0,\n",
    "        'Slightly Stoopid': 4.5,\n",
    "        'The Strokes': 4.0,\n",
    "        'Vampire Weekend': 4.0,\n",
    "        },\n",
    "    'Sam': {\n",
    "        'Blues Traveler': 5.0,\n",
    "        'Broken Bells': 2.0,\n",
    "        'Norah Jones': 3.0,\n",
    "        'Phoenix': 5.0,\n",
    "        'Slightly Stoopid': 4.0,\n",
    "        'The Strokes': 5.0,\n",
    "        },\n",
    "    'Veronica': {\n",
    "        'Blues Traveler': 3.0,\n",
    "        'Norah Jones': 5.0,\n",
    "        'Phoenix': 4.0,\n",
    "        'Slightly Stoopid': 2.5,\n",
    "        'The Strokes': 3.0,\n",
    "        },\n",
    "    }\n",
    "\n",
    "\n",
    "class recommender:\n",
    "\n",
    "    def __init__(\n",
    "        self,\n",
    "        data,\n",
    "        k=1,\n",
    "        metric='pearson',\n",
    "        n=5,\n",
    "        ):\n",
    "        \"\"\" initialize recommender\n",
    "      currently, if data is dictionary the recommender is initialized\n",
    "      to it.\n",
    "      For all other data types of data, no initialization occurs\n",
    "      k is the k value for k nearest neighbor\n",
    "      metric is which distance formula to use\n",
    "      n is the maximum number of recommendations to make\"\"\"\n",
    "\n",
    "        self.k = k\n",
    "        self.n = n\n",
    "        self.username2id = {}\n",
    "        self.userid2name = {}\n",
    "        self.productid2name = {}\n",
    "\n",
    "      #\n",
    "      # The following two variables are used for Slope One\n",
    "      #\n",
    "\n",
    "        self.frequencies = {}\n",
    "        self.deviations = {}\n",
    "\n",
    "      # for some reason I want to save the name of the metric\n",
    "\n",
    "        self.metric = metric\n",
    "        if self.metric == 'pearson':\n",
    "            self.fn = self.pearson\n",
    "\n",
    "      #\n",
    "      # if data is dictionary set recommender data to it\n",
    "      #\n",
    "\n",
    "        if type(data).__name__ == 'dict':\n",
    "            self.data = data\n",
    "\n",
    "    def convertProductID2name(self, id):\n",
    "        \"\"\"Given product id number return product name\"\"\"\n",
    "\n",
    "        if id in self.productid2name:\n",
    "            return self.productid2name[id]\n",
    "        else:\n",
    "            return id\n",
    "\n",
    "    def userRatings(self, id, n):\n",
    "        \"\"\"Return n top ratings for user with id\"\"\"\n",
    "\n",
    "        print 'Ratings for ' + self.userid2name[id]\n",
    "        ratings = self.data[id]\n",
    "        print len(ratings)\n",
    "        ratings = list(ratings.items())[:n]\n",
    "        ratings = [(self.convertProductID2name(k), v) for (k, v) in\n",
    "                   ratings]\n",
    "\n",
    "      # finally sort and return\n",
    "\n",
    "        ratings.sort(key=lambda artistTuple: artistTuple[1],\n",
    "                     reverse=True)\n",
    "        for rating in ratings:\n",
    "            print '%s\\t%i' % (rating[0], rating[1])\n",
    "\n",
    "    def showUserTopItems(self, user, n):\n",
    "        \"\"\" show top n items for user\"\"\"\n",
    "\n",
    "        items = list(self.data[user].items())\n",
    "        items.sort(key=lambda itemTuple: itemTuple[1], reverse=True)\n",
    "        for i in range(n):\n",
    "            print '%s\\t%i' % (self.convertProductID2name(items[i][0]),\n",
    "                              items[i][1])\n",
    "\n",
    "    def loadMovieLens(self, path=''):\n",
    "        self.data = {}\n",
    "\n",
    "      #\n",
    "      # first load movie ratings\n",
    "      #\n",
    "\n",
    "        i = 0\n",
    "\n",
    "      #\n",
    "      # First load book ratings into self.data\n",
    "      #\n",
    "      # f = codecs.open(path + \"u.data\", 'r', 'utf8')\n",
    "\n",
    "        f = codecs.open(path + 'u.data', 'r', 'ascii')\n",
    "\n",
    "      #  f = open(path + \"u.data\")\n",
    "\n",
    "        for line in f:\n",
    "            i += 1\n",
    "\n",
    "         # separate line into fields\n",
    "\n",
    "            fields = line.split('\\t')\n",
    "            user = fields[0]\n",
    "            movie = fields[1]\n",
    "            rating = int(fields[2].strip().strip('\"'))\n",
    "            if user in self.data:\n",
    "                currentRatings = self.data[user]\n",
    "            else:\n",
    "                currentRatings = {}\n",
    "            currentRatings[movie] = rating\n",
    "            self.data[user] = currentRatings\n",
    "        f.close()\n",
    "\n",
    "      #\n",
    "      # Now load movie into self.productid2name\n",
    "      # the file u.item contains movie id, title, release date among\n",
    "      # other fields\n",
    "      #\n",
    "      # f = codecs.open(path + \"u.item\", 'r', 'utf8')\n",
    "\n",
    "        f = codecs.open(path + 'u.item', 'r', 'iso8859-1', 'ignore')\n",
    "\n",
    "      # f = open(path + \"u.item\")\n",
    "\n",
    "        for line in f:\n",
    "            i += 1\n",
    "\n",
    "         # separate line into fields\n",
    "\n",
    "            fields = line.split('|')\n",
    "            mid = fields[0].strip()\n",
    "            title = fields[1].strip()\n",
    "            self.productid2name[mid] = title\n",
    "        f.close()\n",
    "\n",
    "      #\n",
    "      #  Now load user info into both self.userid2name\n",
    "      #  and self.username2id\n",
    "      #\n",
    "      # f = codecs.open(path + \"u.user\", 'r', 'utf8')\n",
    "\n",
    "        f = open(path + 'u.user')\n",
    "        for line in f:\n",
    "            i += 1\n",
    "            fields = line.split('|')\n",
    "            userid = fields[0].strip('\"')\n",
    "            self.userid2name[userid] = line\n",
    "            self.username2id[line] = userid\n",
    "        f.close()\n",
    "        print i\n",
    "\n",
    "    def loadBookDB(self, path=''):\n",
    "        \"\"\"loads the BX book dataset. Path is where the BX files are\n",
    "      located\"\"\"\n",
    "\n",
    "        self.data = {}\n",
    "        i = 0\n",
    "\n",
    "      #\n",
    "      # First load book ratings into self.data\n",
    "      #\n",
    "\n",
    "        f = codecs.open(path + 'u.data', 'r', 'utf8')\n",
    "        for line in f:\n",
    "            i += 1\n",
    "\n",
    "         # separate line into fields\n",
    "\n",
    "            fields = line.split(';')\n",
    "            user = fields[0].strip('\"')\n",
    "            book = fields[1].strip('\"')\n",
    "            rating = int(fields[2].strip().strip('\"'))\n",
    "            if rating > 5:\n",
    "                print ('EXCEEDING ', rating)\n",
    "            if user in self.data:\n",
    "                currentRatings = self.data[user]\n",
    "            else:\n",
    "                currentRatings = {}\n",
    "            currentRatings[book] = rating\n",
    "            self.data[user] = currentRatings\n",
    "        f.close()\n",
    "\n",
    "      #\n",
    "      # Now load books into self.productid2name\n",
    "      # Books contains isbn, title, and author among other fields\n",
    "      #\n",
    "\n",
    "        f = codecs.open(path + 'BX-Books.csv', 'r', 'utf8')\n",
    "        for line in f:\n",
    "            i += 1\n",
    "\n",
    "         # separate line into fields\n",
    "\n",
    "            fields = line.split(';')\n",
    "            isbn = fields[0].strip('\"')\n",
    "            title = fields[1].strip('\"')\n",
    "            author = fields[2].strip().strip('\"')\n",
    "            title = title + ' by ' + author\n",
    "            self.productid2name[isbn] = title\n",
    "        f.close()\n",
    "\n",
    "      #\n",
    "      #  Now load user info into both self.userid2name and\n",
    "      #  self.username2id\n",
    "      #\n",
    "\n",
    "        f = codecs.open(path + 'BX-Users.csv', 'r', 'utf8')\n",
    "        for line in f:\n",
    "            i += 1\n",
    "\n",
    "         # separate line into fields\n",
    "\n",
    "            fields = line.split(';')\n",
    "            userid = fields[0].strip('\"')\n",
    "            location = fields[1].strip('\"')\n",
    "            if len(fields) > 3:\n",
    "                age = fields[2].strip().strip('\"')\n",
    "            else:\n",
    "                age = 'NULL'\n",
    "            if age != 'NULL':\n",
    "                value = location + '  (age: ' + age + ')'\n",
    "            else:\n",
    "                value = location\n",
    "            self.userid2name[userid] = value\n",
    "            self.username2id[location] = userid\n",
    "        f.close()\n",
    "        print i\n",
    "\n",
    "    def computeDeviations(self):\n",
    "\n",
    "      # for each person in the data:\n",
    "      #    get their ratings\n",
    "\n",
    "        for ratings in self.data.values():\n",
    "\n",
    "         # for each item & rating in that set of ratings:\n",
    "\n",
    "            for (item, rating) in ratings.items():\n",
    "                self.frequencies.setdefault(item, {})\n",
    "                self.deviations.setdefault(item, {})\n",
    "\n",
    "            # for each item2 & rating2 in that set of ratings:\n",
    "\n",
    "                for (item2, rating2) in ratings.items():\n",
    "                    if item != item2:\n",
    "\n",
    "                  # add the difference between the ratings to our\n",
    "                  # computation\n",
    "\n",
    "                        self.frequencies[item].setdefault(item2, 0)\n",
    "                        self.deviations[item].setdefault(item2, 0.0)\n",
    "                        self.frequencies[item][item2] += 1\n",
    "                        self.deviations[item][item2] += rating - rating2\n",
    "\n",
    "        for (item, ratings) in self.deviations.items():\n",
    "            for item2 in ratings:\n",
    "                ratings[item2] /= self.frequencies[item][item2]\n",
    "\n",
    "    def slopeOneRecommendations(self, userRatings):\n",
    "        recommendations = {}\n",
    "        frequencies = {}\n",
    "\n",
    "      # for every item and rating in the user's recommendations\n",
    "\n",
    "        for (userItem, userRating) in userRatings.items():\n",
    "\n",
    "         # for every item in our dataset that the user didn't rate\n",
    "\n",
    "            for (diffItem, diffRatings) in self.deviations.items():\n",
    "                if diffItem not in userRatings and userItem \\\n",
    "                    in self.deviations[diffItem]:\n",
    "                    freq = self.frequencies[diffItem][userItem]\n",
    "                    recommendations.setdefault(diffItem, 0.0)\n",
    "                    frequencies.setdefault(diffItem, 0)\n",
    "\n",
    "               # add to the running sum representing the numerator\n",
    "               # of the formula\n",
    "\n",
    "                    recommendations[diffItem] += (diffRatings[userItem]\n",
    "                            + userRating) * freq\n",
    "\n",
    "               # keep a running sum of the frequency of diffitem\n",
    "\n",
    "                    frequencies[diffItem] += freq\n",
    "        recommendations = [(self.convertProductID2name(k), v\n",
    "                           / frequencies[k]) for (k, v) in\n",
    "                           recommendations.items()]\n",
    "\n",
    "      # finally sort and return\n",
    "\n",
    "        recommendations.sort(key=lambda artistTuple: artistTuple[1],\n",
    "                             reverse=True)\n",
    "\n",
    "      # I am only going to return the first 50 recommendations\n",
    "\n",
    "        return recommendations[:50]\n",
    "\n",
    "    def pearson(self, rating1, rating2):\n",
    "        sum_xy = 0\n",
    "        sum_x = 0\n",
    "        sum_y = 0\n",
    "        sum_x2 = 0\n",
    "        sum_y2 = 0\n",
    "        n = 0\n",
    "        for key in rating1:\n",
    "            if key in rating2:\n",
    "                n += 1\n",
    "                x = rating1[key]\n",
    "                y = rating2[key]\n",
    "                sum_xy += x * y\n",
    "                sum_x += x\n",
    "                sum_y += y\n",
    "                sum_x2 += pow(x, 2)\n",
    "                sum_y2 += pow(y, 2)\n",
    "        if n == 0:\n",
    "            return 0\n",
    "\n",
    "      # now compute denominator\n",
    "\n",
    "        denominator = sqrt(sum_x2 - pow(sum_x, 2) / n) * sqrt(sum_y2\n",
    "                - pow(sum_y, 2) / n)\n",
    "        if denominator == 0:\n",
    "            return 0\n",
    "        else:\n",
    "            return (sum_xy - sum_x * sum_y / n) / denominator\n",
    "\n",
    "    def computeNearestNeighbor(self, username):\n",
    "        \"\"\"creates a sorted list of users based on their distance\n",
    "      to username\"\"\"\n",
    "\n",
    "        distances = []\n",
    "        for instance in self.data:\n",
    "            if instance != username:\n",
    "                distance = self.fn(self.data[username],\n",
    "                                   self.data[instance])\n",
    "                distances.append((instance, distance))\n",
    "\n",
    "      # sort based on distance -- closest first\n",
    "\n",
    "        distances.sort(key=lambda artistTuple: artistTuple[1],\n",
    "                       reverse=True)\n",
    "        return distances\n",
    "\n",
    "    def recommend(self, user):\n",
    "        \"\"\"Give list of recommendations\"\"\"\n",
    "\n",
    "        recommendations = {}\n",
    "\n",
    "      # first get list of users  ordered by nearness\n",
    "\n",
    "        nearest = self.computeNearestNeighbor(user)\n",
    "\n",
    "      #\n",
    "      # now get the ratings for the user\n",
    "      #\n",
    "\n",
    "        userRatings = self.data[user]\n",
    "\n",
    "      #\n",
    "      # determine the total distance\n",
    "\n",
    "        totalDistance = 0.0\n",
    "        for i in range(self.k):\n",
    "            totalDistance += nearest[i][1]\n",
    "\n",
    "      # now iterate through the k nearest neighbors\n",
    "      # accumulating their ratings\n",
    "\n",
    "        for i in range(self.k):\n",
    "\n",
    "         # compute slice of pie\n",
    "\n",
    "            weight = nearest[i][1] / totalDistance\n",
    "\n",
    "         # get the name of the person\n",
    "\n",
    "            name = nearest[i][0]\n",
    "\n",
    "         # get the ratings for this person\n",
    "\n",
    "            neighborRatings = self.data[name]\n",
    "\n",
    "         # get the name of the person\n",
    "         # now find bands neighbor rated that user didn't\n",
    "\n",
    "            for artist in neighborRatings:\n",
    "                if not artist in userRatings:\n",
    "                    if artist not in recommendations:\n",
    "                        recommendations[artist] = \\\n",
    "                            neighborRatings[artist] * weight\n",
    "                    else:\n",
    "                        recommendations[artist] = \\\n",
    "                            recommendations[artist] \\\n",
    "                            + neighborRatings[artist] * weight\n",
    "\n",
    "      # now make list from dictionary and only get the first n items\n",
    "\n",
    "        recommendations = list(recommendations.items())[:self.n]\n",
    "        recommendations = [(self.convertProductID2name(k), v) for (k,\n",
    "                           v) in recommendations]\n",
    "\n",
    "      # finally sort and return\n",
    "\n",
    "        recommendations.sort(key=lambda artistTuple: artistTuple[1],\n",
    "                             reverse=True)\n",
    "        return recommendations"
   ]
  },
  {
   "cell_type": "code",
   "execution_count": 18,
   "metadata": {
    "collapsed": false
   },
   "outputs": [
    {
     "name": "stdout",
     "output_type": "stream",
     "text": [
      "102625\n",
      "[(u\"I Don't Want to Talk About It (De eso no se habla) (1993)\", 6.5), (u'Bewegte Mann, Der (1994)', 6.333333333333333), (u'Year of the Horse (1997)', 6.333333333333333), (u'Santa with Muscles (1996)', 6.0), (u'Anna (1996)', 6.0), (u'Object of My Affection, The (1998)', 6.0), (u'Witness (1985)', 6.0), (u\"Someone Else's America (1995)\", 6.0), (u'Telling Lies in America (1997)', 6.0), (u'Sweet Nothing (1995)', 6.0), (u'Pather Panchali (1955)', 5.714285714285714), (u'Boys, Les (1997)', 5.5), (u'Celestial Clockwork (1994)', 5.5), (u'The Deadly Cure (1996)', 5.5), (u'Wings of Courage (1995)', 5.5), (u'Mina Tannenbaum (1994)', 5.4), (u'Switchback (1997)', 5.333333333333333), (u'Hearts and Minds (1996)', 5.333333333333333), (u'Crossfire (1947)', 5.333333333333333), (u'Angel Baby (1995)', 5.333333333333333), (u'World of Apu, The (Apur Sansar) (1959)', 5.333333333333333), (u'Kaspar Hauser (1993)', 5.285714285714286), (u'Wings of Desire (1987)', 5.276595744680851), (u'Nico Icon (1995)', 5.25), (u'Close Shave, A (1995)', 5.25), (u'Wrong Trousers, The (1993)', 5.247863247863248), (u'Shall We Dance? (1996)', 5.208333333333333), (u'Saint of Fort Washington, The (1993)', 5.2), (u'Wallace & Gromit: The Best of Aardman Animation (1996)', 5.17910447761194), (u'Manon of the Spring (Manon des sources) (1986)', 5.162790697674419), (u'Kundun (1997)', 5.153846153846154), (u'Casablanca (1942)', 5.119791666666667), (u'Paradise Lost: The Child Murders at Robin Hood Hills (1996)', 5.117647058823529), (u'Jean de Florette (1986)', 5.113636363636363), (u'Inspector General, The (1949)', 5.111111111111111), (u'Star Wars (1977)', 5.043927648578811), (u'My Man Godfrey (1936)', 5.037037037037037), (u'Rebecca (1940)', 5.035087719298246), (u'Promesse, La (1996)', 5.0), (u'Stranger, The (1994)', 5.0), (u'Cement Garden, The (1993)', 5.0), (u'Wife, The (1995)', 5.0), (u'Welcome To Sarajevo (1997)', 5.0), (u'Naked in New York (1994)', 5.0), (u'Intimate Relations (1996)', 5.0), (u'Of Human Bondage (1934)', 5.0), (u'Ridicule (1996)', 5.0), (u'Window to Paris (1994)', 5.0), (u'Farmer & Chase (1995)', 5.0), (u'Faces (1968)', 5.0)]\n"
     ]
    }
   ],
   "source": [
    "r = recommender(0)\n",
    "r.loadMovieLens('./ml-100k/')\n",
    "\n",
    "#input personal preferences\n",
    "personalRatings = {u'214': 5, u'3': 4, u'102': 4, u'31': 3}\n",
    "r.computeDeviations() \n",
    "print r.slopeOneRecommendations(personalRatings)"
   ]
  }
 ],
 "metadata": {
  "kernelspec": {
   "display_name": "Python 2",
   "language": "python",
   "name": "python2"
  },
  "language_info": {
   "codemirror_mode": {
    "name": "ipython",
    "version": 2
   },
   "file_extension": ".py",
   "mimetype": "text/x-python",
   "name": "python",
   "nbconvert_exporter": "python",
   "pygments_lexer": "ipython2",
   "version": "2.7.13"
  }
 },
 "nbformat": 4,
 "nbformat_minor": 2
}
